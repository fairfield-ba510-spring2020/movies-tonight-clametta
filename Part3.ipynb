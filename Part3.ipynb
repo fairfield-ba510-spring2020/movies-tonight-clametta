{
 "cells": [
  {
   "cell_type": "markdown",
   "metadata": {},
   "source": [
    "# Movies Tonight Part 3: SQL DML"
   ]
  },
  {
   "cell_type": "code",
   "execution_count": 1,
   "metadata": {},
   "outputs": [
    {
     "data": {
      "text/plain": [
       "'Connected: @Movies.db'"
      ]
     },
     "execution_count": 1,
     "metadata": {},
     "output_type": "execute_result"
    }
   ],
   "source": [
    "%load_ext sql\n",
    "%sql sqlite:///Movies.db"
   ]
  },
  {
   "cell_type": "markdown",
   "metadata": {},
   "source": [
    "1. **Load the `DATASET.csv` file into the `Movies.db` database.**  \n",
    "    - Import the CSV file to create a new table called `DATASET`. Follow the example [here](http://www.sqlitetutorial.net/sqlite-import-csv/).\n",
    "    - Use a [`PRAGMA table-info` pseudo-query](https://www.sqlite.org/pragma.html#pragma_table_info) to inspect the design of the new table. [How are we going to handle dates](https://www.sqlite.org/datatype3.html)?"
   ]
  },
  {
   "cell_type": "code",
   "execution_count": 15,
   "metadata": {},
   "outputs": [
    {
     "name": "stdout",
     "output_type": "stream",
     "text": [
      " * sqlite:///Movies.db\n",
      "Done.\n",
      "Done.\n"
     ]
    },
    {
     "data": {
      "text/html": [
       "<table>\n",
       "    <tr>\n",
       "        <th>cid</th>\n",
       "        <th>name</th>\n",
       "        <th>type</th>\n",
       "        <th>notnull</th>\n",
       "        <th>dflt_value</th>\n",
       "        <th>pk</th>\n",
       "    </tr>\n",
       "    <tr>\n",
       "        <td>0</td>\n",
       "        <td>TName</td>\n",
       "        <td>TEXT</td>\n",
       "        <td>0</td>\n",
       "        <td>None</td>\n",
       "        <td>0</td>\n",
       "    </tr>\n",
       "    <tr>\n",
       "        <td>1</td>\n",
       "        <td>Location</td>\n",
       "        <td>TEXT</td>\n",
       "        <td>0</td>\n",
       "        <td>None</td>\n",
       "        <td>0</td>\n",
       "    </tr>\n",
       "    <tr>\n",
       "        <td>2</td>\n",
       "        <td>Phone</td>\n",
       "        <td>TEXT</td>\n",
       "        <td>0</td>\n",
       "        <td>None</td>\n",
       "        <td>0</td>\n",
       "    </tr>\n",
       "    <tr>\n",
       "        <td>3</td>\n",
       "        <td>MTitle</td>\n",
       "        <td>TEXT</td>\n",
       "        <td>0</td>\n",
       "        <td>None</td>\n",
       "        <td>0</td>\n",
       "    </tr>\n",
       "    <tr>\n",
       "        <td>4</td>\n",
       "        <td>ShowTime</td>\n",
       "        <td>TEXT</td>\n",
       "        <td>0</td>\n",
       "        <td>None</td>\n",
       "        <td>0</td>\n",
       "    </tr>\n",
       "    <tr>\n",
       "        <td>5</td>\n",
       "        <td>Rating</td>\n",
       "        <td>TEXT</td>\n",
       "        <td>0</td>\n",
       "        <td>None</td>\n",
       "        <td>0</td>\n",
       "    </tr>\n",
       "    <tr>\n",
       "        <td>6</td>\n",
       "        <td>CCode</td>\n",
       "        <td>TEXT</td>\n",
       "        <td>0</td>\n",
       "        <td>None</td>\n",
       "        <td>0</td>\n",
       "    </tr>\n",
       "    <tr>\n",
       "        <td>7</td>\n",
       "        <td>CName</td>\n",
       "        <td>TEXT</td>\n",
       "        <td>0</td>\n",
       "        <td>None</td>\n",
       "        <td>0</td>\n",
       "    </tr>\n",
       "</table>"
      ],
      "text/plain": [
       "[(0, 'TName', 'TEXT', 0, None, 0),\n",
       " (1, 'Location', 'TEXT', 0, None, 0),\n",
       " (2, 'Phone', 'TEXT', 0, None, 0),\n",
       " (3, 'MTitle', 'TEXT', 0, None, 0),\n",
       " (4, 'ShowTime', 'TEXT', 0, None, 0),\n",
       " (5, 'Rating', 'TEXT', 0, None, 0),\n",
       " (6, 'CCode', 'TEXT', 0, None, 0),\n",
       " (7, 'CName', 'TEXT', 0, None, 0)]"
      ]
     },
     "execution_count": 15,
     "metadata": {},
     "output_type": "execute_result"
    }
   ],
   "source": [
    "%%sql\n",
    "SELECT * FROM DATASET;\n",
    "PRAGMA table_info(DATASET);"
   ]
  },
  {
   "cell_type": "markdown",
   "metadata": {},
   "source": [
    "2. **Populate the tables with data.**  \n",
    "\n",
    "    - Use `INSERT ... SELECT ...` queries to extract data from `DATASET` for each table of your other tables. \n",
    "    - Start with the strong entities before moving on to the weak ones. Be sure to always select distinct     values. \n",
    "    - Foreign Keys get special treatment. You will have to use JOINs to pick up the PKs from the other side of the relationships. (As in Part 1, use the fact that movie names, theater names, and people names are always unique in our source data. That way you can use then for the JOIN columns. \n",
    "    - If you have to start over, then rerun your DDL queries from Part 2. "
   ]
  },
  {
   "cell_type": "code",
   "execution_count": 30,
   "metadata": {},
   "outputs": [
    {
     "name": "stdout",
     "output_type": "stream",
     "text": [
      " * sqlite:///Movies.db\n",
      "23 rows affected.\n",
      "23 rows affected.\n",
      "Done.\n",
      "9 rows affected.\n",
      "9 rows affected.\n",
      "Done.\n",
      "153 rows affected.\n",
      "153 rows affected.\n",
      "Done.\n",
      "131 rows affected.\n",
      "131 rows affected.\n",
      "Done.\n",
      "0 rows affected.\n",
      "(sqlite3.OperationalError) near \"SELECT\": syntax error\n",
      "[SQL: INSERT INTO CREDITS (CCODE, MID, AID)\n",
      "    SELECT DISTINCT CCode, AID, MID\n",
      "    FROM DATASET\n",
      "        JOIN ARTISTS ON (ARTISTS.NAME = DATASET.CName)\n",
      "        JOIN MOVIES ON (MOVIES.TITLE = DATASET.MTitle)\n",
      "SELECT * FROM CREDITS;]\n",
      "(Background on this error at: http://sqlalche.me/e/e3q8)\n"
     ]
    }
   ],
   "source": [
    "%%sql\n",
    "DELETE FROM MOVIES;\n",
    "INSERT INTO MOVIES (TITLE,RATING)\n",
    "    SELECT DISTINCT MTitle, Rating FROM DATASET;\n",
    "SELECT * FROM MOVIES;\n",
    "\n",
    "DELETE FROM THEATERS;\n",
    "INSERT INTO THEATERS (NAME,LOCATION,PHONE)\n",
    "    SELECT DISTINCT TName, Location, Phone FROM DATASET;\n",
    "SELECT * FROM THEATERS;\n",
    "\n",
    "DELETE FROM ARTISTS;\n",
    "INSERT INTO ARTISTS (Name)\n",
    "    SELECT DISTINCT CName FROM DATASET;\n",
    "SELECT * FROM ARTISTS;\n",
    "\n",
    "DELETE FROM SHOWS;\n",
    "INSERT INTO SHOWS (SHOWTIME,MID,TID)\n",
    "SELECT DISTINCT DATASET.ShowTime, MOVIES.MID, THEATERS.TID\n",
    "FROM DATASET\n",
    "    JOIN MOVIES ON (MOVIES.TITLE = DATASET.MTitle)\n",
    "    JOIN THEATERS ON (THEATERS.NAME = DATASET.TName);\n",
    "SELECT SHOWTIME,TITLE,NAME FROM SHOWS JOIN MOVIES USING (MID) JOIN THEATERS USING (TID);\n",
    "\n",
    "DELETE FROM CREDITS;\n",
    "INSERT INTO CREDITS (CCODE, MID, AID)\n",
    "    SELECT DISTINCT CCode, AID, MID\n",
    "    FROM DATASET\n",
    "        JOIN ARTISTS ON (ARTISTS.NAME = DATASET.CName)\n",
    "        JOIN MOVIES ON (MOVIES.TITLE = DATASET.MTitle)\n",
    "SELECT * FROM CREDITS;"
   ]
  },
  {
   "cell_type": "markdown",
   "metadata": {},
   "source": [
    "3. **Check your work.**  \n",
    "There are 9 theaters, 23 movies, 152 artists, 131 shows, and 161 credits."
   ]
  },
  {
   "cell_type": "code",
   "execution_count": null,
   "metadata": {},
   "outputs": [],
   "source": [
    "YOUR CODE HERE"
   ]
  },
  {
   "cell_type": "markdown",
   "metadata": {},
   "source": [
    "4. **Now check the source data.**  \n",
    "There are actually 13 duplicate rows in the original source data! Can you spot them? Write a SQL query that counts how many times each (MTitle, TName, Showtime, CCode, and CName) appears. Which ones appear more than once?"
   ]
  },
  {
   "cell_type": "code",
   "execution_count": null,
   "metadata": {},
   "outputs": [],
   "source": [
    "YOUR CODE HERE"
   ]
  },
  {
   "cell_type": "markdown",
   "metadata": {},
   "source": [
    "5. **Drop the `DATASET` table.**  \n",
    "We don't need it anymore. "
   ]
  },
  {
   "cell_type": "code",
   "execution_count": null,
   "metadata": {},
   "outputs": [],
   "source": []
  },
  {
   "cell_type": "markdown",
   "metadata": {},
   "source": [
    "6. **Save, commit, and push your work to GitHub.**  \n",
    "Use the commit summary comment \"Completed Part 3\"."
   ]
  },
  {
   "cell_type": "code",
   "execution_count": null,
   "metadata": {},
   "outputs": [],
   "source": []
  }
 ],
 "metadata": {
  "kernelspec": {
   "display_name": "Python 3",
   "language": "python",
   "name": "python3"
  },
  "language_info": {
   "codemirror_mode": {
    "name": "ipython",
    "version": 3
   },
   "file_extension": ".py",
   "mimetype": "text/x-python",
   "name": "python",
   "nbconvert_exporter": "python",
   "pygments_lexer": "ipython3",
   "version": "3.6.7"
  }
 },
 "nbformat": 4,
 "nbformat_minor": 2
}
